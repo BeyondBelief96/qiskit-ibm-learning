{
 "cells": [
  {
   "cell_type": "code",
   "execution_count": 1,
   "metadata": {},
   "outputs": [
    {
     "data": {
      "text/html": [
       "<pre style=\"word-wrap: normal;white-space: pre;background: #fff0;line-height: 1.1;font-family: &quot;Courier New&quot;,Courier,monospace\">     ┌───┐     \n",
       "q_0: ┤ H ├─────\n",
       "     ├───┤┌───┐\n",
       "q_1: ┤ X ├┤ H ├\n",
       "     └───┘└───┘</pre>"
      ],
      "text/plain": [
       "     ┌───┐     \n",
       "q_0: ┤ H ├─────\n",
       "     ├───┤┌───┐\n",
       "q_1: ┤ X ├┤ H ├\n",
       "     └───┘└───┘"
      ]
     },
     "execution_count": 1,
     "metadata": {},
     "output_type": "execute_result"
    }
   ],
   "source": [
    "from qiskit import QuantumCircuit, Aer, assemble\n",
    "import numpy as np\n",
    "from qiskit.visualization import plot_histogram, plot_bloch_multivector\n",
    "from qiskit.visualization import array_to_latex\n",
    "\n",
    "qc = QuantumCircuit(2)\n",
    "qc.h(0)\n",
    "qc.x(1)\n",
    "qc.h(1)\n",
    "\n",
    "qc.draw()\n",
    "\n"
   ]
  },
  {
   "cell_type": "code",
   "execution_count": 2,
   "metadata": {},
   "outputs": [
    {
     "data": {
      "text/latex": [
       "$$\n",
       "\\text{Statevector = } \n",
       "\\begin{bmatrix}\n",
       "\\tfrac{1}{2} & \\tfrac{1}{2} & -\\tfrac{1}{2} & -\\tfrac{1}{2}  \\\\\n",
       " \\end{bmatrix}\n",
       "$$"
      ],
      "text/plain": [
       "<IPython.core.display.Latex object>"
      ]
     },
     "execution_count": 2,
     "metadata": {},
     "output_type": "execute_result"
    }
   ],
   "source": [
    "svsim = Aer.get_backend('aer_simulator')\n",
    "qc.save_statevector()\n",
    "qobj = assemble(qc)\n",
    "final_state = svsim.run(qobj).result().get_statevector()\n",
    "\n",
    "array_to_latex(final_state, prefix=\"\\\\text{Statevector = } \")"
   ]
  },
  {
   "cell_type": "code",
   "execution_count": null,
   "metadata": {},
   "outputs": [],
   "source": []
  }
 ],
 "metadata": {
  "kernelspec": {
   "display_name": "Python 3.10.5 ('qiskit-env': venv)",
   "language": "python",
   "name": "python3"
  },
  "language_info": {
   "codemirror_mode": {
    "name": "ipython",
    "version": 3
   },
   "file_extension": ".py",
   "mimetype": "text/x-python",
   "name": "python",
   "nbconvert_exporter": "python",
   "pygments_lexer": "ipython3",
   "version": "3.10.5"
  },
  "orig_nbformat": 4,
  "vscode": {
   "interpreter": {
    "hash": "202754d147e4de0c38bc0c07686d86a9eb5cd8614645dd908dab361294682a3e"
   }
  }
 },
 "nbformat": 4,
 "nbformat_minor": 2
}
